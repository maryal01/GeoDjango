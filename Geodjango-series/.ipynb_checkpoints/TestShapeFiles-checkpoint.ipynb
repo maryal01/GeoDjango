{
 "cells": [
  {
   "cell_type": "code",
   "execution_count": 1,
   "metadata": {},
   "outputs": [],
   "source": [
    "import os\n",
    "import geopandas as gp\n",
    "from shapely.geometry import Polygon, Point, box  \n",
    "total_shapedirs = [ \"WBD_shapefiles/\"+n+\"/\" for n in os.listdir(\"WBD_shapefiles\")]"
   ]
  },
  {
   "cell_type": "code",
   "execution_count": 2,
   "metadata": {},
   "outputs": [
    {
     "data": {
      "text/plain": [
       "['WBD_shapefiles/Shape 6/',\n",
       " 'WBD_shapefiles/Shape/',\n",
       " 'WBD_shapefiles/.DS_Store/',\n",
       " 'WBD_shapefiles/labels/',\n",
       " 'WBD_shapefiles/Shape 5/',\n",
       " 'WBD_shapefiles/Shape 2/',\n",
       " 'WBD_shapefiles/Shape 3/',\n",
       " 'WBD_shapefiles/Shape 4/']"
      ]
     },
     "execution_count": 2,
     "metadata": {},
     "output_type": "execute_result"
    }
   ],
   "source": [
    "total_shapedirs"
   ]
  },
  {
   "cell_type": "code",
   "execution_count": 5,
   "metadata": {},
   "outputs": [],
   "source": [
    "df = gp.read_file(total_shapedirs[4]+\"WBDHU2.shp\")"
   ]
  },
  {
   "cell_type": "code",
   "execution_count": 6,
   "metadata": {},
   "outputs": [
    {
     "data": {
      "text/html": [
       "<div>\n",
       "<style scoped>\n",
       "    .dataframe tbody tr th:only-of-type {\n",
       "        vertical-align: middle;\n",
       "    }\n",
       "\n",
       "    .dataframe tbody tr th {\n",
       "        vertical-align: top;\n",
       "    }\n",
       "\n",
       "    .dataframe thead th {\n",
       "        text-align: right;\n",
       "    }\n",
       "</style>\n",
       "<table border=\"1\" class=\"dataframe\">\n",
       "  <thead>\n",
       "    <tr style=\"text-align: right;\">\n",
       "      <th></th>\n",
       "      <th>OBJECTID</th>\n",
       "      <th>TNMID</th>\n",
       "      <th>MetaSource</th>\n",
       "      <th>SourceData</th>\n",
       "      <th>SourceOrig</th>\n",
       "      <th>SourceFeat</th>\n",
       "      <th>LoadDate</th>\n",
       "      <th>AreaSqKm</th>\n",
       "      <th>AreaAcres</th>\n",
       "      <th>GNIS_ID</th>\n",
       "      <th>Name</th>\n",
       "      <th>States</th>\n",
       "      <th>HUC2</th>\n",
       "      <th>Shape_Leng</th>\n",
       "      <th>Shape_Area</th>\n",
       "      <th>geometry</th>\n",
       "    </tr>\n",
       "  </thead>\n",
       "  <tbody>\n",
       "    <tr>\n",
       "      <th>0</th>\n",
       "      <td>1</td>\n",
       "      <td>{9C77B5BA-946A-4537-BADD-990373DEFFBB}</td>\n",
       "      <td>None</td>\n",
       "      <td>None</td>\n",
       "      <td>None</td>\n",
       "      <td>None</td>\n",
       "      <td>2018-07-17</td>\n",
       "      <td>739947.45</td>\n",
       "      <td>1.828448e+08</td>\n",
       "      <td>2730133</td>\n",
       "      <td>South Atlantic-Gulf Region</td>\n",
       "      <td>AL,FL,GA,LA,MS,NC,SC,TN,VA</td>\n",
       "      <td>03</td>\n",
       "      <td>70.532347</td>\n",
       "      <td>71.03185</td>\n",
       "      <td>(POLYGON ((-79.4782105318659 37.50766332823895...</td>\n",
       "    </tr>\n",
       "  </tbody>\n",
       "</table>\n",
       "</div>"
      ],
      "text/plain": [
       "   OBJECTID                                   TNMID MetaSource SourceData  \\\n",
       "0         1  {9C77B5BA-946A-4537-BADD-990373DEFFBB}       None       None   \n",
       "\n",
       "  SourceOrig SourceFeat    LoadDate   AreaSqKm     AreaAcres  GNIS_ID  \\\n",
       "0       None       None  2018-07-17  739947.45  1.828448e+08  2730133   \n",
       "\n",
       "                         Name                      States HUC2  Shape_Leng  \\\n",
       "0  South Atlantic-Gulf Region  AL,FL,GA,LA,MS,NC,SC,TN,VA   03   70.532347   \n",
       "\n",
       "   Shape_Area                                           geometry  \n",
       "0    71.03185  (POLYGON ((-79.4782105318659 37.50766332823895...  "
      ]
     },
     "execution_count": 6,
     "metadata": {},
     "output_type": "execute_result"
    }
   ],
   "source": [
    "str(df[\"geometry\"]"
   ]
  },
  {
   "cell_type": "code",
   "execution_count": null,
   "metadata": {},
   "outputs": [],
   "source": []
  }
 ],
 "metadata": {
  "kernelspec": {
   "display_name": "Python 3",
   "language": "python",
   "name": "python3"
  },
  "language_info": {
   "codemirror_mode": {
    "name": "ipython",
    "version": 3
   },
   "file_extension": ".py",
   "mimetype": "text/x-python",
   "name": "python",
   "nbconvert_exporter": "python",
   "pygments_lexer": "ipython3",
   "version": "3.6.8"
  }
 },
 "nbformat": 4,
 "nbformat_minor": 2
}
